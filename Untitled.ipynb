{
 "cells": [
  {
   "cell_type": "code",
   "execution_count": 1,
   "metadata": {},
   "outputs": [],
   "source": [
    "import quadratic as qd"
   ]
  },
  {
   "cell_type": "code",
   "execution_count": 2,
   "metadata": {},
   "outputs": [
    {
     "name": "stdout",
     "output_type": "stream",
     "text": [
      "(-2.0, -2.0)\n",
      "(0.8284271247461903, -4.82842712474619)\n",
      "(1.4142135623730951, -1.4142135623730951)\n",
      "((1.2246467991473532e-16+2j), (-1.2246467991473532e-16-2j))\n",
      "a is zero and so the expression is not quadratic\n",
      "but the solution is\n",
      "-2.0\n",
      "Not what I was looking for\n",
      "None\n"
     ]
    }
   ],
   "source": [
    "print(qd.find_roots(1,4,4))\n",
    "print(qd.find_roots(1,4,-4))\n",
    "print(qd.find_roots(2,0,-4))\n",
    "print(qd.find_roots(1,0,4))\n",
    "print(qd.find_roots(0,1,2))\n",
    "print(qd.find_roots(\"a\",2,3))"
   ]
  },
  {
   "cell_type": "code",
   "execution_count": null,
   "metadata": {},
   "outputs": [],
   "source": []
  }
 ],
 "metadata": {
  "kernelspec": {
   "display_name": "Python 3",
   "language": "python",
   "name": "python3"
  },
  "language_info": {
   "codemirror_mode": {
    "name": "ipython",
    "version": 3
   },
   "file_extension": ".py",
   "mimetype": "text/x-python",
   "name": "python",
   "nbconvert_exporter": "python",
   "pygments_lexer": "ipython3",
   "version": "3.7.1"
  }
 },
 "nbformat": 4,
 "nbformat_minor": 2
}
